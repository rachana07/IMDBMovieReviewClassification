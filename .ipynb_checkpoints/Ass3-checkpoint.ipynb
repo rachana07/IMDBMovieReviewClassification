{
 "cells": [
  {
   "cell_type": "code",
   "execution_count": 1,
   "metadata": {},
   "outputs": [
    {
     "name": "stderr",
     "output_type": "stream",
     "text": [
      "[nltk_data] Downloading package punkt to\n",
      "[nltk_data]     /Users/rachanathota/nltk_data...\n",
      "[nltk_data]   Package punkt is already up-to-date!\n",
      "[nltk_data] Downloading package wordnet to\n",
      "[nltk_data]     /Users/rachanathota/nltk_data...\n",
      "[nltk_data]   Package wordnet is already up-to-date!\n",
      "[nltk_data] Downloading package stopwords to\n",
      "[nltk_data]     /Users/rachanathota/nltk_data...\n",
      "[nltk_data]   Package stopwords is already up-to-date!\n"
     ]
    },
    {
     "data": {
      "text/plain": [
       "True"
      ]
     },
     "execution_count": 1,
     "metadata": {},
     "output_type": "execute_result"
    }
   ],
   "source": [
    "from bs4 import BeautifulSoup\n",
    "from nltk.corpus import stopwords\n",
    "from nltk.stem import WordNetLemmatizer\n",
    "from sklearn.feature_extraction.text import TfidfVectorizer\n",
    "from sklearn.neighbors import KNeighborsClassifier\n",
    "from sklearn.metrics.pairwise import cosine_similarity as cs\n",
    "from nltk.stem import PorterStemmer\n",
    "from sklearn.model_selection import cross_val_score\n",
    "import matplotlib.pyplot as plt \n",
    "%matplotlib inline\n",
    "import numpy as np\n",
    "import pandas as pd\n",
    "import re\n",
    "import nltk as nltk\n",
    "nltk.download('punkt')\n",
    "nltk.download('wordnet')\n",
    "nltk.download('stopwords')"
   ]
  },
  {
   "cell_type": "code",
   "execution_count": 2,
   "metadata": {},
   "outputs": [],
   "source": [
    "#Read the input files\n",
    "\n",
    "with open('test_file.txt', \"r\") as fr2:\n",
    "        test_data = fr2.readlines()\n",
    "        \n",
    "train_data = pd.read_csv ('train_file.txt', sep=\"\\t\")"
   ]
  },
  {
   "cell_type": "code",
   "execution_count": 3,
   "metadata": {},
   "outputs": [],
   "source": [
    "#pre-processing the data. The function to convert a raw review into string of words.\n",
    "\n",
    "def preprocessor(Sentences):\n",
    "    processed_features = []\n",
    "    for sentence in range(0, len(Sentences)):\n",
    "        clean = re.compile('<.*?>')\n",
    "        processed_feature = re.sub(clean, '', str(Sentences[sentence]))\n",
    "\n",
    "        processed_feature = re.sub(r'([\\w\\.-]+@[\\w\\.-]+\\.\\w+)','',processed_feature)\n",
    "        processed_feature = re.sub(r'^https?:\\/\\/.*[\\r\\n]*', '', processed_feature, flags=re.MULTILINE)\n",
    "\n",
    "        clean = re.compile('<.*?>')\n",
    "        processed_feature = re.sub(clean, '', processed_feature)\n",
    "\n",
    "        # into lower case\n",
    "        processed_feature = processed_feature.lower() \n",
    "    \n",
    "        # 4. Tokenizing\n",
    "        processed_feature = processed_feature.split()\n",
    "    \n",
    "        # 5. In Python, searching a set is much faster than searching a list, so convert the stop words to a set\n",
    "        stops = set(stopwords.words(\"english\"))                      \n",
    "    \n",
    "        # 6. Remove stop words. Restrict length grater than 2. Lematize and Stem\n",
    "        lemmatizer = WordNetLemmatizer()\n",
    "        ps = PorterStemmer()\n",
    "        lemmatized_words = ''\n",
    "        for word in processed_feature:\n",
    "            if word not in stops and len(word) > 2:\n",
    "                lemma = str(lemmatizer.lemmatize(word))\n",
    "                stem = ps.stem(lemma)\n",
    "                lemmatized_words += str(lemmatizer.lemmatize(stem))\n",
    "                lemmatized_words += ' '\n",
    "        processed_features.append(lemmatized_words)\n",
    "    \n",
    "    # 7. Returning the processed text\n",
    "    return processed_features              \n",
    "    "
   ]
  },
  {
   "cell_type": "code",
   "execution_count": 4,
   "metadata": {},
   "outputs": [],
   "source": [
    "#pre-processing the train data\n",
    "preprocessed_train_data = preprocessor(train_data.review)"
   ]
  },
  {
   "cell_type": "code",
   "execution_count": 5,
   "metadata": {},
   "outputs": [
    {
     "data": {
      "text/plain": [
       "14999"
      ]
     },
     "execution_count": 5,
     "metadata": {},
     "output_type": "execute_result"
    }
   ],
   "source": [
    "len(preprocessed_train_data)"
   ]
  },
  {
   "cell_type": "code",
   "execution_count": 6,
   "metadata": {},
   "outputs": [],
   "source": [
    "#pre-processing the test data\n",
    "preprocessed_test_data = preprocessor(test_data)"
   ]
  },
  {
   "cell_type": "code",
   "execution_count": 14,
   "metadata": {},
   "outputs": [],
   "source": [
    "#This function returns L2-normalized sparse matrices with TF-IDF values\n",
    "def TFIDFVectorizing(train_data, test_data):\n",
    "    \n",
    "    vectorizer = TfidfVectorizer(norm = 'l2')\n",
    "    \n",
    "    train_matrix = vectorizer.fit_transform(train_data)\n",
    "    test_matrix = vectorizer.transform(test_data)\n",
    "\n",
    "    return train_matrix, test_matrix"
   ]
  },
  {
   "cell_type": "code",
   "execution_count": 15,
   "metadata": {},
   "outputs": [],
   "source": [
    "# TFIDF vectorizing\n",
    "vectorizer = TfidfVectorizer(norm = 'l2')\n",
    "    \n",
    "train_matrix= vectorizer.fit_transform(preprocessed_train_data)\n",
    "test_matrix = vectorizer.transform(preprocessed_test_data)\n"
   ]
  },
  {
   "cell_type": "code",
   "execution_count": 16,
   "metadata": {},
   "outputs": [
    {
     "data": {
      "text/plain": [
       "15000"
      ]
     },
     "execution_count": 16,
     "metadata": {},
     "output_type": "execute_result"
    }
   ],
   "source": [
    "#this function computes cosine similarity between the two as a numpy array\n",
    "similarities = cs(test_matrix, train_matrix)\n",
    "len(similarities)"
   ]
  },
  {
   "cell_type": "code",
   "execution_count": 17,
   "metadata": {},
   "outputs": [],
   "source": [
    "#this function calculates the count of positive and negative reviews\n",
    "\n",
    "def predict(nearestNeighbors, labels):\n",
    "    positiveReviewsCount = 0\n",
    "    negativeReviewsCount = 0\n",
    "    for neighbor in nearestNeighbors:\n",
    "        if int(labels[neighbor]) == 1:\n",
    "            positiveReviewsCount += 1\n",
    "        else:\n",
    "            negativeReviewsCount += 1\n",
    "    if positiveReviewsCount > negativeReviewsCount:\n",
    "        return 1\n",
    "    else:\n",
    "        return -1"
   ]
  },
  {
   "cell_type": "code",
   "execution_count": 26,
   "metadata": {},
   "outputs": [],
   "source": [
    "#this function calculates the score between the predicted sentiments and actual(y_test) sentiments\n",
    "\n",
    "def get_score(X_train, X_test, y_train, y_test, k):\n",
    "    test_sentiments = list()\n",
    "    \n",
    "    train_matrix, test_matrix = TFIDFVectorizing(X_train, X_test)\n",
    "    similarities1 = cs(test_matrix, train_matrix)\n",
    "    sents = [];\n",
    "    correct = 0;\n",
    "    for similarity in similarities1:\n",
    "        knn = np.argsort(-similarity)[:k]\n",
    "        prediction = predict(knn, train_data.sentiment)\n",
    "    \n",
    "       #To write to the list as +1 instead of just a 1 for positive reviews\n",
    "        if prediction == 1:\n",
    "            sents.append(1)\n",
    "        else:\n",
    "            sents.append(-1)\n",
    "    correct = 0\n",
    "    for x, y in zip(sents, y_test):\n",
    "        if x == y:\n",
    "            correct = correct + 1\n",
    "    return(correct/len(y_test))\n"
   ]
  },
  {
   "cell_type": "code",
   "execution_count": 27,
   "metadata": {},
   "outputs": [
    {
     "data": {
      "text/html": [
       "<div>\n",
       "<style scoped>\n",
       "    .dataframe tbody tr th:only-of-type {\n",
       "        vertical-align: middle;\n",
       "    }\n",
       "\n",
       "    .dataframe tbody tr th {\n",
       "        vertical-align: top;\n",
       "    }\n",
       "\n",
       "    .dataframe thead th {\n",
       "        text-align: right;\n",
       "    }\n",
       "</style>\n",
       "<table border=\"1\" class=\"dataframe\">\n",
       "  <thead>\n",
       "    <tr style=\"text-align: right;\">\n",
       "      <th></th>\n",
       "      <th>review</th>\n",
       "      <th>sentiment</th>\n",
       "    </tr>\n",
       "  </thead>\n",
       "  <tbody>\n",
       "    <tr>\n",
       "      <th>0</th>\n",
       "      <td>one review mention watch episod hooked. right,...</td>\n",
       "      <td>1</td>\n",
       "    </tr>\n",
       "    <tr>\n",
       "      <th>1</th>\n",
       "      <td>wonder littl production. film techniqu unassum...</td>\n",
       "      <td>1</td>\n",
       "    </tr>\n",
       "    <tr>\n",
       "      <th>2</th>\n",
       "      <td>thought wonder way spend time hot summer weeke...</td>\n",
       "      <td>1</td>\n",
       "    </tr>\n",
       "    <tr>\n",
       "      <th>3</th>\n",
       "      <td>basic there' famili littl boy (jake) think the...</td>\n",
       "      <td>-1</td>\n",
       "    </tr>\n",
       "    <tr>\n",
       "      <th>4</th>\n",
       "      <td>petter mattei' \"love time money\" visual stun f...</td>\n",
       "      <td>1</td>\n",
       "    </tr>\n",
       "    <tr>\n",
       "      <th>...</th>\n",
       "      <td>...</td>\n",
       "      <td>...</td>\n",
       "    </tr>\n",
       "    <tr>\n",
       "      <th>14994</th>\n",
       "      <td>*** ****yep! dress kill kind movie. like kalif...</td>\n",
       "      <td>1</td>\n",
       "    </tr>\n",
       "    <tr>\n",
       "      <th>14995</th>\n",
       "      <td>bobcat goldthwait commend attempt someth diffe...</td>\n",
       "      <td>-1</td>\n",
       "    </tr>\n",
       "    <tr>\n",
       "      <th>14996</th>\n",
       "      <td>sinc day \"clarissa explain all\" i'v bit crush ...</td>\n",
       "      <td>1</td>\n",
       "    </tr>\n",
       "    <tr>\n",
       "      <th>14997</th>\n",
       "      <td>travel coupl (horton hamilton)stumbl onto town...</td>\n",
       "      <td>-1</td>\n",
       "    </tr>\n",
       "    <tr>\n",
       "      <th>14998</th>\n",
       "      <td>film deepli disappointing. wender display limi...</td>\n",
       "      <td>-1</td>\n",
       "    </tr>\n",
       "  </tbody>\n",
       "</table>\n",
       "<p>14999 rows × 2 columns</p>\n",
       "</div>"
      ],
      "text/plain": [
       "                                                  review  sentiment\n",
       "0      one review mention watch episod hooked. right,...          1\n",
       "1      wonder littl production. film techniqu unassum...          1\n",
       "2      thought wonder way spend time hot summer weeke...          1\n",
       "3      basic there' famili littl boy (jake) think the...         -1\n",
       "4      petter mattei' \"love time money\" visual stun f...          1\n",
       "...                                                  ...        ...\n",
       "14994  *** ****yep! dress kill kind movie. like kalif...          1\n",
       "14995  bobcat goldthwait commend attempt someth diffe...         -1\n",
       "14996  sinc day \"clarissa explain all\" i'v bit crush ...          1\n",
       "14997  travel coupl (horton hamilton)stumbl onto town...         -1\n",
       "14998  film deepli disappointing. wender display limi...         -1\n",
       "\n",
       "[14999 rows x 2 columns]"
      ]
     },
     "execution_count": 27,
     "metadata": {},
     "output_type": "execute_result"
    }
   ],
   "source": [
    "train=pd.DataFrame()\n",
    "train['review']=preprocessed_train_data\n",
    "train['sentiment']=train_data.sentiment\n",
    "train"
   ]
  },
  {
   "cell_type": "code",
   "execution_count": 28,
   "metadata": {
    "scrolled": true
   },
   "outputs": [
    {
     "name": "stdout",
     "output_type": "stream",
     "text": [
      "For value of k= 300 the accuracy is : 0.522\n",
      "For value of k= 300 the accuracy is : 0.7263333333333334\n",
      "For value of k= 300 the accuracy is : 0.778\n",
      "For value of k= 300 the accuracy is : 0.817\n",
      "For value of k= 300 the accuracy is : 0.8106035345115038\n",
      "For value of k= 300 the kfold accuracy is : [0.7307873735689675]\n",
      "For value of k= 310 the accuracy is : 0.5193333333333333\n",
      "For value of k= 310 the accuracy is : 0.7246666666666667\n",
      "For value of k= 310 the accuracy is : 0.784\n",
      "For value of k= 310 the accuracy is : 0.8186666666666667\n",
      "For value of k= 310 the accuracy is : 0.8106035345115038\n",
      "For value of k= 310 the kfold accuracy is : [0.7307873735689675, 0.7314540402356341]\n",
      "For value of k= 320 the accuracy is : 0.516\n",
      "For value of k= 320 the accuracy is : 0.7296666666666667\n",
      "For value of k= 320 the accuracy is : 0.7776666666666666\n",
      "For value of k= 320 the accuracy is : 0.818\n",
      "For value of k= 320 the accuracy is : 0.808269423141047\n",
      "For value of k= 320 the kfold accuracy is : [0.7307873735689675, 0.7314540402356341, 0.7299205512948761]\n",
      "For value of k= 330 the accuracy is : 0.512\n",
      "For value of k= 330 the accuracy is : 0.7333333333333333\n",
      "For value of k= 330 the accuracy is : 0.78\n",
      "For value of k= 330 the accuracy is : 0.817\n",
      "For value of k= 330 the accuracy is : 0.8079359786595531\n",
      "For value of k= 330 the kfold accuracy is : [0.7307873735689675, 0.7314540402356341, 0.7299205512948761, 0.7300538623985773]\n",
      "For value of k= 340 the accuracy is : 0.5146666666666667\n",
      "For value of k= 340 the accuracy is : 0.7356666666666667\n",
      "For value of k= 340 the accuracy is : 0.7783333333333333\n",
      "For value of k= 340 the accuracy is : 0.817\n",
      "For value of k= 340 the accuracy is : 0.8069356452150717\n",
      "For value of k= 340 the kfold accuracy is : [0.7307873735689675, 0.7314540402356341, 0.7299205512948761, 0.7300538623985773, 0.7305204623763476]\n",
      "For value of k= 350 the accuracy is : 0.5143333333333333\n",
      "For value of k= 350 the accuracy is : 0.7356666666666667\n",
      "For value of k= 350 the accuracy is : 0.7763333333333333\n",
      "For value of k= 350 the accuracy is : 0.816\n",
      "For value of k= 350 the accuracy is : 0.8072690896965655\n",
      "For value of k= 350 the kfold accuracy is : [0.7307873735689675, 0.7314540402356341, 0.7299205512948761, 0.7300538623985773, 0.7305204623763476, 0.7299204846059798]\n",
      "For value of k= 360 the accuracy is : 0.5133333333333333\n",
      "For value of k= 360 the accuracy is : 0.7356666666666667\n",
      "For value of k= 360 the accuracy is : 0.777\n",
      "For value of k= 360 the accuracy is : 0.817\n",
      "For value of k= 360 the accuracy is : 0.8072690896965655\n",
      "For value of k= 360 the kfold accuracy is : [0.7307873735689675, 0.7314540402356341, 0.7299205512948761, 0.7300538623985773, 0.7305204623763476, 0.7299204846059798, 0.7300538179393131]\n",
      "For value of k= 370 the accuracy is : 0.519\n",
      "For value of k= 370 the accuracy is : 0.738\n",
      "For value of k= 370 the accuracy is : 0.7766666666666666\n",
      "For value of k= 370 the accuracy is : 0.819\n",
      "For value of k= 370 the accuracy is : 0.8096032010670223\n",
      "For value of k= 370 the kfold accuracy is : [0.7307873735689675, 0.7314540402356341, 0.7299205512948761, 0.7300538623985773, 0.7305204623763476, 0.7299204846059798, 0.7300538179393131, 0.7324539735467378]\n",
      "For value of k= 380 the accuracy is : 0.5173333333333333\n",
      "For value of k= 380 the accuracy is : 0.738\n",
      "For value of k= 380 the accuracy is : 0.778\n",
      "For value of k= 380 the accuracy is : 0.8166666666666667\n",
      "For value of k= 380 the accuracy is : 0.8112704234744915\n",
      "For value of k= 380 the kfold accuracy is : [0.7307873735689675, 0.7314540402356341, 0.7299205512948761, 0.7300538623985773, 0.7305204623763476, 0.7299204846059798, 0.7300538179393131, 0.7324539735467378, 0.7322540846948982]\n",
      "For value of k= 390 the accuracy is : 0.5173333333333333\n",
      "For value of k= 390 the accuracy is : 0.7383333333333333\n",
      "For value of k= 390 the accuracy is : 0.777\n",
      "For value of k= 390 the accuracy is : 0.818\n",
      "For value of k= 390 the accuracy is : 0.81027009003001\n",
      "For value of k= 390 the kfold accuracy is : [0.7307873735689675, 0.7314540402356341, 0.7299205512948761, 0.7300538623985773, 0.7305204623763476, 0.7299204846059798, 0.7300538179393131, 0.7324539735467378, 0.7322540846948982, 0.7321873513393353]\n"
     ]
    }
   ],
   "source": [
    "#K-fold\n",
    "from sklearn.model_selection import KFold\n",
    "kf = KFold(n_splits=5)\n",
    "kf\n",
    "scores_k = []\n",
    "k_range = range(0, 1000)\n",
    "train1 = pd.read_csv ('train_file.txt', sep=\"\\t\")\n",
    "avg1 = []\n",
    "for k in range(300, 400, 10):\n",
    "    scores_k = []\n",
    "    for train_index, test_index in kf.split(train):\n",
    "        X_train, X_test, y_train, y_test = train.review[train_index], train.review[test_index],train.sentiment[train_index], train.sentiment[test_index]\n",
    "        scores = get_score(X_train, X_test, y_train, y_test, k)\n",
    "        scores_k.append(scores)\n",
    "        print('For value of k= '+str(k)+' the accuracy is : ' +str(scores))\n",
    "        #print(scores)\n",
    "    avg1.append(sum(scores_k)/len(scores_k))\n",
    "    print('For value of k= '+str(k)+' the kfold accuracy is : ' +str(avg1))"
   ]
  },
  {
   "cell_type": "code",
   "execution_count": 29,
   "metadata": {},
   "outputs": [
    {
     "data": {
      "image/png": "[encoded data removed]",
      "text/plain": [
       "<Figure size 432x288 with 1 Axes>"
      ]
     },
     "metadata": {
      "needs_background": "light"
     },
     "output_type": "display_data"
    }
   ],
   "source": [
    "k_range = range(300, 400, 10)\n",
    "# plot to see clearly\n",
    "plt.plot(k_range, avg1)\n",
    "plt.xlabel('Value of K for KNN')\n",
    "plt.ylabel('Cross-Validated Accuracy')\n",
    "plt.show()"
   ]
  },
  {
   "cell_type": "code",
   "execution_count": 31,
   "metadata": {},
   "outputs": [],
   "source": [
    "#Pass every row in the numpy array of similarities to predict the sentiment of every review\n",
    "k = 370\n",
    "final_result = []\n",
    "\n",
    "for i in similarities:\n",
    "    knn = np.argsort(-i)[:k]\n",
    "    prediction = predict(knn, train_data.sentiment)\n",
    "    \n",
    "    #To write to the list as +1 instead of just a 1 for positive reviews\n",
    "    if prediction == 1:\n",
    "        final_result.append('1')\n",
    "    else:\n",
    "        final_result.append('-1')"
   ]
  },
  {
   "cell_type": "code",
   "execution_count": 32,
   "metadata": {},
   "outputs": [],
   "source": [
    "#Write the result to a .dat file\n",
    "output = open('output.txt', 'w')\n",
    "\n",
    "output.writelines( \"%s\\n\" % item for item in final_result )\n",
    "\n",
    "output.close()"
   ]
  },
  {
   "cell_type": "code",
   "execution_count": null,
   "metadata": {},
   "outputs": [],
   "source": []
  }
 ],
 "metadata": {
  "kernelspec": {
   "display_name": "Python 3",
   "language": "python",
   "name": "python3"
  },
  "language_info": {
   "codemirror_mode": {
    "name": "ipython",
    "version": 3
   },
   "file_extension": ".py",
   "mimetype": "text/x-python",
   "name": "python",
   "nbconvert_exporter": "python",
   "pygments_lexer": "ipython3",
   "version": "3.7.6"
  }
 },
 "nbformat": 4,
 "nbformat_minor": 4
}
